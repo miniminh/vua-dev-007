This file uses ResNet50 model trained with Imagenet. After that we test the content-based approach to reecommend items.
